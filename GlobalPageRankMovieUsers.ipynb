{
 "cells": [
  {
   "cell_type": "markdown",
   "metadata": {},
   "source": [
    "# PageRank"
   ]
  },
  {
   "cell_type": "markdown",
   "metadata": {},
   "source": [
    "## Обработка данных"
   ]
  },
  {
   "cell_type": "code",
   "execution_count": 1,
   "metadata": {},
   "outputs": [
    {
     "name": "stdout",
     "output_type": "stream",
     "text": [
      "Defaulting to user installation because normal site-packages is not writeableNote: you may need to restart the kernel to use updated packages.\n",
      "\n",
      "Requirement already satisfied: scipy in c:\\users\\odo20\\appdata\\roaming\\python\\python312\\site-packages (1.12.0)\n",
      "Requirement already satisfied: numpy<1.29.0,>=1.22.4 in c:\\users\\odo20\\appdata\\roaming\\python\\python312\\site-packages (from scipy) (1.26.4)\n",
      "Defaulting to user installation because normal site-packages is not writeableNote: you may need to restart the kernel to use updated packages.\n",
      "\n",
      "Requirement already satisfied: numpy in c:\\users\\odo20\\appdata\\roaming\\python\\python312\\site-packages (1.26.4)\n",
      "Defaulting to user installation because normal site-packages is not writeable\n",
      "Requirement already satisfied: pandas in c:\\users\\odo20\\appdata\\roaming\\python\\python312\\site-packages (2.2.1)\n",
      "Requirement already satisfied: numpy<2,>=1.26.0 in c:\\users\\odo20\\appdata\\roaming\\python\\python312\\site-packages (from pandas) (1.26.4)\n",
      "Requirement already satisfied: python-dateutil>=2.8.2 in c:\\users\\odo20\\appdata\\roaming\\python\\python312\\site-packages (from pandas) (2.9.0.post0)\n",
      "Requirement already satisfied: pytz>=2020.1 in c:\\users\\odo20\\appdata\\roaming\\python\\python312\\site-packages (from pandas) (2024.1)\n",
      "Requirement already satisfied: tzdata>=2022.7 in c:\\users\\odo20\\appdata\\roaming\\python\\python312\\site-packages (from pandas) (2024.1)\n",
      "Requirement already satisfied: six>=1.5 in c:\\users\\odo20\\appdata\\roaming\\python\\python312\\site-packages (from python-dateutil>=2.8.2->pandas) (1.16.0)\n",
      "Note: you may need to restart the kernel to use updated packages.\n",
      "Defaulting to user installation because normal site-packages is not writeable\n",
      "Requirement already satisfied: networkx in c:\\users\\odo20\\appdata\\roaming\\python\\python312\\site-packages (3.2.1)\n",
      "Note: you may need to restart the kernel to use updated packages.\n",
      "Defaulting to user installation because normal site-packages is not writeableNote: you may need to restart the kernel to use updated packages.\n",
      "\n",
      "Requirement already satisfied: scikit-learn in c:\\users\\odo20\\appdata\\roaming\\python\\python312\\site-packages (1.4.1.post1)\n",
      "Requirement already satisfied: numpy<2.0,>=1.19.5 in c:\\users\\odo20\\appdata\\roaming\\python\\python312\\site-packages (from scikit-learn) (1.26.4)\n",
      "Requirement already satisfied: scipy>=1.6.0 in c:\\users\\odo20\\appdata\\roaming\\python\\python312\\site-packages (from scikit-learn) (1.12.0)\n",
      "Requirement already satisfied: joblib>=1.2.0 in c:\\users\\odo20\\appdata\\roaming\\python\\python312\\site-packages (from scikit-learn) (1.3.2)\n",
      "Requirement already satisfied: threadpoolctl>=2.0.0 in c:\\users\\odo20\\appdata\\roaming\\python\\python312\\site-packages (from scikit-learn) (3.3.0)\n"
     ]
    }
   ],
   "source": [
    "%pip install scipy\n",
    "%pip install numpy\n",
    "%pip install pandas\n",
    "%pip install networkx\n",
    "%pip install scikit-learn"
   ]
  },
  {
   "cell_type": "code",
   "execution_count": 2,
   "metadata": {},
   "outputs": [],
   "source": [
    "import pandas as pd\n",
    "import numpy as np\n",
    "import networkx as nx\n",
    "from sklearn.model_selection import train_test_split\n",
    "from typing import Tuple, Mapping, Any"
   ]
  },
  {
   "cell_type": "code",
   "execution_count": 3,
   "metadata": {},
   "outputs": [],
   "source": [
    "df = pd.read_csv(\"res\\\\rating.csv\")"
   ]
  },
  {
   "cell_type": "code",
   "execution_count": 4,
   "metadata": {},
   "outputs": [
    {
     "data": {
      "text/plain": [
       "count    2.000026e+07\n",
       "mean     3.525529e+00\n",
       "std      1.051989e+00\n",
       "min      5.000000e-01\n",
       "25%      3.000000e+00\n",
       "50%      3.500000e+00\n",
       "75%      4.000000e+00\n",
       "max      5.000000e+00\n",
       "Name: rating, dtype: float64"
      ]
     },
     "execution_count": 4,
     "metadata": {},
     "output_type": "execute_result"
    }
   ],
   "source": [
    "df['rating'].describe()"
   ]
  },
  {
   "cell_type": "code",
   "execution_count": 7,
   "metadata": {},
   "outputs": [],
   "source": [
    "def split_by_target_column_value(df: pd.DataFrame, test_size: float, target_column: str, target_value: Any,\n",
    "                                 random_state: int = 42) -> Tuple[pd.DataFrame, pd.Series, pd.DataFrame, pd.Series]:\n",
    "    \"\"\"\n",
    "    Разделяет DataFrame на обучающий и тестовый наборы на основе определенного значения целевого столбца.\n",
    "    Выдает в качестве тестового набора test_size от набора, в котором значение в target_column == target_value\n",
    "    В тренировочном все остальное\n",
    "    Параметры:\n",
    "        df (pd.DataFrame): DataFrame для разделения.\n",
    "        test_size: Пропорция данных, которые следует включить в тестовый набор.\n",
    "        target_column (str): Название целевого столбца для разделения.\n",
    "        target_value (Any): Значение целевого столбца, используемое для разделения.\n",
    "        random_state (int): Зерно для генератора случайных чисел.\n",
    "\n",
    "    Возвращает:\n",
    "        Tuple[pd.DataFrame, pd.Series, pd.DataFrame, pd.Series]: Кортеж, содержащий данные для обучения,\n",
    "        метки обучения, данные для тестирования и метки тестирования.\n",
    "    \"\"\"\n",
    "    grouped = df.groupby(by=target_column)\n",
    "    train_df, test_df = train_test_split(grouped.get_group(target_value), test_size=test_size,\n",
    "                                         random_state=random_state)\n",
    "    train = pd.concat([group for ind, group in grouped if ind != target_value], ignore_index=True)\n",
    "    train = pd.concat([train_df, train], ignore_index=True)\n",
    "    train_y = train_df[target_column]\n",
    "    test_y = test_df[target_column]\n",
    "    return train, train_y, test_df, test_y\n",
    "\n"
   ]
  },
  {
   "cell_type": "code",
   "execution_count": 8,
   "metadata": {},
   "outputs": [],
   "source": [
    "train1, train1_y, test1, test1_y = split_by_target_column_value(df, test_size=0.5, target_column='userId', target_value=1)"
   ]
  },
  {
   "cell_type": "markdown",
   "metadata": {},
   "source": [
    "## Реализация PageRank"
   ]
  },
  {
   "cell_type": "code",
   "execution_count": 9,
   "metadata": {},
   "outputs": [],
   "source": [
    "def get_range(train: pd.DataFrame, personalization: Mapping,\n",
    "               source: str, target: str, edge_attr: str) -> pd.DataFrame:\n",
    "    \"\"\"\n",
    "    Вычисляет PageRank на основе заданного DataFrame и возвращает DataFrame с результатами.\n",
    "    В возвращаемых значении присутствуют данные из personalization\n",
    "    Параметры:\n",
    "        train (pd.DataFrame): DataFrame для вычисления PageRank.\n",
    "        personalization (Mapping): Словарь с персонализацией для PageRank.\n",
    "        source (str): Название столбца, содержащего исходные вершины ребер.\n",
    "        target (str): Название столбца, содержащего целевые вершины ребер.\n",
    "        edge_attr (str): Название столбца, содержащего атрибуты ребер.\n",
    "\n",
    "    Возвращает:\n",
    "        pd.DataFrame: DataFrame с результатами вычисления PageRank.\n",
    "    \"\"\"\n",
    "    # Создание DataFrame с ребрами\n",
    "    edges = train[[source, target, edge_attr]]\n",
    "    edges[source] = train[source].apply(lambda x: (x, 'source'))\n",
    "    edges[target] = train[target].apply(lambda x: (x, 'target'))\n",
    "    \n",
    "    # Создание графа из DataFrame с ребрами\n",
    "    G = nx.from_pandas_edgelist(edges, source=source, target=target, edge_attr=edge_attr)\n",
    "    \n",
    "    # Преобразование персонализации в формат, подходящий для PageRank\n",
    "    new_personalization = {(k, 'source'): v for k, v in personalization.items()}\n",
    "    \n",
    "    # Вычисление PageRank\n",
    "    pagerank = nx.pagerank(G, personalization=new_personalization)\n",
    "    \n",
    "    # Формирование DataFrame с результатами PageRank\n",
    "    target_rank_generator = ((node[0], rank) for node, rank in pagerank.items() if node[1] == 'target')\n",
    "    return pd.DataFrame(target_rank_generator, columns=[target, 'pagerank'])\n"
   ]
  },
  {
   "cell_type": "code",
   "execution_count": 10,
   "metadata": {},
   "outputs": [
    {
     "name": "stderr",
     "output_type": "stream",
     "text": [
      "C:\\Users\\odo20\\AppData\\Local\\Temp\\ipykernel_8532\\30100332.py:5: SettingWithCopyWarning: \n",
      "A value is trying to be set on a copy of a slice from a DataFrame.\n",
      "Try using .loc[row_indexer,col_indexer] = value instead\n",
      "\n",
      "See the caveats in the documentation: https://pandas.pydata.org/pandas-docs/stable/user_guide/indexing.html#returning-a-view-versus-a-copy\n",
      "  edges[source] = train[source].apply(lambda x: (x, 'source'))\n",
      "C:\\Users\\odo20\\AppData\\Local\\Temp\\ipykernel_8532\\30100332.py:6: SettingWithCopyWarning: \n",
      "A value is trying to be set on a copy of a slice from a DataFrame.\n",
      "Try using .loc[row_indexer,col_indexer] = value instead\n",
      "\n",
      "See the caveats in the documentation: https://pandas.pydata.org/pandas-docs/stable/user_guide/indexing.html#returning-a-view-versus-a-copy\n",
      "  edges[target] = train[target].apply(lambda x: (x, 'target'))\n"
     ]
    }
   ],
   "source": [
    "prediction_movie_for_user1 = get_range(train=train1, personalization={1: 1}, source='userId', target='movieId',\n",
    "                                            edge_attr='rating')\n",
    "prediction_movie_for_user1_without_famous = prediction_movie_for_user1[~prediction_movie_for_user1.isin(train1_y)]"
   ]
  },
  {
   "cell_type": "code",
   "execution_count": 11,
   "metadata": {},
   "outputs": [],
   "source": [
    "pred = prediction_movie_for_user1_without_famous.sort_values(by='pagerank', ascending=False).head(len(test1_y))\n"
   ]
  },
  {
   "cell_type": "code",
   "execution_count": 12,
   "metadata": {},
   "outputs": [],
   "source": [
    "def accuracy_without_order(true_labels, predicted_labels):\n",
    "    # Преобразование списков в множества\n",
    "    true_set = set(true_labels)\n",
    "    pred_set = set(predicted_labels)\n",
    "    \n",
    "    # Проверка на равенство множеств\n",
    "    accuracy = len(true_set.intersection(pred_set)) / len(true_set.union(pred_set))\n",
    "    \n",
    "    return accuracy"
   ]
  },
  {
   "cell_type": "code",
   "execution_count": 13,
   "metadata": {},
   "outputs": [
    {
     "name": "stdout",
     "output_type": "stream",
     "text": [
      "0.0\n"
     ]
    }
   ],
   "source": [
    "print(accuracy_without_order(test1_y, pred))"
   ]
  },
  {
   "cell_type": "code",
   "execution_count": 14,
   "metadata": {},
   "outputs": [],
   "source": [
    "movie_df = pd.read_csv('res/movie.csv')"
   ]
  },
  {
   "cell_type": "code",
   "execution_count": 15,
   "metadata": {},
   "outputs": [
    {
     "data": {
      "text/html": [
       "<div>\n",
       "<style scoped>\n",
       "    .dataframe tbody tr th:only-of-type {\n",
       "        vertical-align: middle;\n",
       "    }\n",
       "\n",
       "    .dataframe tbody tr th {\n",
       "        vertical-align: top;\n",
       "    }\n",
       "\n",
       "    .dataframe thead th {\n",
       "        text-align: right;\n",
       "    }\n",
       "</style>\n",
       "<table border=\"1\" class=\"dataframe\">\n",
       "  <thead>\n",
       "    <tr style=\"text-align: right;\">\n",
       "      <th></th>\n",
       "      <th>movieId</th>\n",
       "      <th>title</th>\n",
       "      <th>genres</th>\n",
       "      <th>pagerank</th>\n",
       "    </tr>\n",
       "  </thead>\n",
       "  <tbody>\n",
       "    <tr>\n",
       "      <th>8</th>\n",
       "      <td>593</td>\n",
       "      <td>Silence of the Lambs, The (1991)</td>\n",
       "      <td>Crime|Horror|Thriller</td>\n",
       "      <td>0.002580</td>\n",
       "    </tr>\n",
       "    <tr>\n",
       "      <th>1</th>\n",
       "      <td>47</td>\n",
       "      <td>Seven (a.k.a. Se7en) (1995)</td>\n",
       "      <td>Mystery|Thriller</td>\n",
       "      <td>0.002226</td>\n",
       "    </tr>\n",
       "    <tr>\n",
       "      <th>64</th>\n",
       "      <td>4993</td>\n",
       "      <td>Lord of the Rings: The Fellowship of the Ring,...</td>\n",
       "      <td>Adventure|Fantasy</td>\n",
       "      <td>0.002182</td>\n",
       "    </tr>\n",
       "    <tr>\n",
       "      <th>13</th>\n",
       "      <td>1214</td>\n",
       "      <td>Alien (1979)</td>\n",
       "      <td>Horror|Sci-Fi</td>\n",
       "      <td>0.002087</td>\n",
       "    </tr>\n",
       "    <tr>\n",
       "      <th>59</th>\n",
       "      <td>4306</td>\n",
       "      <td>Shrek (2001)</td>\n",
       "      <td>Adventure|Animation|Children|Comedy|Fantasy|Ro...</td>\n",
       "      <td>0.002072</td>\n",
       "    </tr>\n",
       "  </tbody>\n",
       "</table>\n",
       "</div>"
      ],
      "text/plain": [
       "    movieId                                              title  \\\n",
       "8       593                   Silence of the Lambs, The (1991)   \n",
       "1        47                        Seven (a.k.a. Se7en) (1995)   \n",
       "64     4993  Lord of the Rings: The Fellowship of the Ring,...   \n",
       "13     1214                                       Alien (1979)   \n",
       "59     4306                                       Shrek (2001)   \n",
       "\n",
       "                                               genres  pagerank  \n",
       "8                               Crime|Horror|Thriller  0.002580  \n",
       "1                                    Mystery|Thriller  0.002226  \n",
       "64                                  Adventure|Fantasy  0.002182  \n",
       "13                                      Horror|Sci-Fi  0.002087  \n",
       "59  Adventure|Animation|Children|Comedy|Fantasy|Ro...  0.002072  "
      ]
     },
     "execution_count": 15,
     "metadata": {},
     "output_type": "execute_result"
    }
   ],
   "source": [
    "prediction_moviename = pd.merge(movie_df, pred, on='movieId', how='inner')\n",
    "prediction_moviename.sort_values(by='pagerank', ascending=False).head()"
   ]
  },
  {
   "cell_type": "code",
   "execution_count": 18,
   "metadata": {},
   "outputs": [
    {
     "data": {
      "text/html": [
       "<div>\n",
       "<style scoped>\n",
       "    .dataframe tbody tr th:only-of-type {\n",
       "        vertical-align: middle;\n",
       "    }\n",
       "\n",
       "    .dataframe tbody tr th {\n",
       "        vertical-align: top;\n",
       "    }\n",
       "\n",
       "    .dataframe thead th {\n",
       "        text-align: right;\n",
       "    }\n",
       "</style>\n",
       "<table border=\"1\" class=\"dataframe\">\n",
       "  <thead>\n",
       "    <tr style=\"text-align: right;\">\n",
       "      <th></th>\n",
       "      <th>movieId</th>\n",
       "      <th>title</th>\n",
       "      <th>genres</th>\n",
       "      <th>userId</th>\n",
       "      <th>rating</th>\n",
       "      <th>timestamp</th>\n",
       "    </tr>\n",
       "  </thead>\n",
       "  <tbody>\n",
       "    <tr>\n",
       "      <th>73</th>\n",
       "      <td>5952</td>\n",
       "      <td>Lord of the Rings: The Two Towers, The (2002)</td>\n",
       "      <td>Adventure|Fantasy</td>\n",
       "      <td>1</td>\n",
       "      <td>5.0</td>\n",
       "      <td>2005-04-02 23:30:19</td>\n",
       "    </tr>\n",
       "    <tr>\n",
       "      <th>87</th>\n",
       "      <td>8636</td>\n",
       "      <td>Spider-Man 2 (2004)</td>\n",
       "      <td>Action|Adventure|Sci-Fi|IMAX</td>\n",
       "      <td>1</td>\n",
       "      <td>4.5</td>\n",
       "      <td>2005-04-02 23:44:53</td>\n",
       "    </tr>\n",
       "    <tr>\n",
       "      <th>21</th>\n",
       "      <td>1198</td>\n",
       "      <td>Raiders of the Lost Ark (Indiana Jones and the...</td>\n",
       "      <td>Action|Adventure</td>\n",
       "      <td>1</td>\n",
       "      <td>4.5</td>\n",
       "      <td>2005-04-02 23:30:24</td>\n",
       "    </tr>\n",
       "    <tr>\n",
       "      <th>20</th>\n",
       "      <td>1196</td>\n",
       "      <td>Star Wars: Episode V - The Empire Strikes Back...</td>\n",
       "      <td>Action|Adventure|Sci-Fi</td>\n",
       "      <td>1</td>\n",
       "      <td>4.5</td>\n",
       "      <td>2005-04-02 23:32:22</td>\n",
       "    </tr>\n",
       "    <tr>\n",
       "      <th>54</th>\n",
       "      <td>3499</td>\n",
       "      <td>Misery (1990)</td>\n",
       "      <td>Drama|Horror|Thriller</td>\n",
       "      <td>1</td>\n",
       "      <td>4.0</td>\n",
       "      <td>2005-04-02 23:35:18</td>\n",
       "    </tr>\n",
       "  </tbody>\n",
       "</table>\n",
       "</div>"
      ],
      "text/plain": [
       "    movieId                                              title  \\\n",
       "73     5952      Lord of the Rings: The Two Towers, The (2002)   \n",
       "87     8636                                Spider-Man 2 (2004)   \n",
       "21     1198  Raiders of the Lost Ark (Indiana Jones and the...   \n",
       "20     1196  Star Wars: Episode V - The Empire Strikes Back...   \n",
       "54     3499                                      Misery (1990)   \n",
       "\n",
       "                          genres  userId  rating            timestamp  \n",
       "73             Adventure|Fantasy       1     5.0  2005-04-02 23:30:19  \n",
       "87  Action|Adventure|Sci-Fi|IMAX       1     4.5  2005-04-02 23:44:53  \n",
       "21              Action|Adventure       1     4.5  2005-04-02 23:30:24  \n",
       "20       Action|Adventure|Sci-Fi       1     4.5  2005-04-02 23:32:22  \n",
       "54         Drama|Horror|Thriller       1     4.0  2005-04-02 23:35:18  "
      ]
     },
     "execution_count": 18,
     "metadata": {},
     "output_type": "execute_result"
    }
   ],
   "source": [
    "test_moviename = pd.merge(movie_df, test1, on='movieId', how='inner')\n",
    "test_moviename.sort_values(by='rating', ascending=False).head()"
   ]
  },
  {
   "cell_type": "code",
   "execution_count": 19,
   "metadata": {},
   "outputs": [
    {
     "data": {
      "text/plain": [
       "88"
      ]
     },
     "execution_count": 19,
     "metadata": {},
     "output_type": "execute_result"
    }
   ],
   "source": [
    "len(pred)"
   ]
  },
  {
   "cell_type": "code",
   "execution_count": 20,
   "metadata": {},
   "outputs": [
    {
     "data": {
      "text/plain": [
       "88"
      ]
     },
     "execution_count": 20,
     "metadata": {},
     "output_type": "execute_result"
    }
   ],
   "source": [
    "len(test1_y)"
   ]
  }
 ],
 "metadata": {
  "kernelspec": {
   "display_name": "Python 3",
   "language": "python",
   "name": "python3"
  },
  "language_info": {
   "codemirror_mode": {
    "name": "ipython",
    "version": 3
   },
   "file_extension": ".py",
   "mimetype": "text/x-python",
   "name": "python",
   "nbconvert_exporter": "python",
   "pygments_lexer": "ipython3",
   "version": "3.12.2"
  }
 },
 "nbformat": 4,
 "nbformat_minor": 2
}
