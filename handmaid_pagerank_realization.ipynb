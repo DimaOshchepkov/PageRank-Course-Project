{
 "cells": [
  {
   "cell_type": "code",
   "execution_count": 1,
   "metadata": {},
   "outputs": [
    {
     "name": "stdout",
     "output_type": "stream",
     "text": [
      "Defaulting to user installation because normal site-packages is not writeable\n",
      "Requirement already satisfied: scipy in c:\\users\\odo20\\appdata\\roaming\\python\\python312\\site-packages (1.12.0)\n",
      "Requirement already satisfied: numpy<1.29.0,>=1.22.4 in c:\\users\\odo20\\appdata\\roaming\\python\\python312\\site-packages (from scipy) (1.26.4)\n",
      "Note: you may need to restart the kernel to use updated packages.\n",
      "Defaulting to user installation because normal site-packages is not writeable\n",
      "Requirement already satisfied: numpy in c:\\users\\odo20\\appdata\\roaming\\python\\python312\\site-packages (1.26.4)\n",
      "Note: you may need to restart the kernel to use updated packages.\n",
      "Defaulting to user installation because normal site-packages is not writeableNote: you may need to restart the kernel to use updated packages.\n",
      "\n",
      "Requirement already satisfied: pandas in c:\\users\\odo20\\appdata\\roaming\\python\\python312\\site-packages (2.2.1)\n",
      "Requirement already satisfied: numpy<2,>=1.26.0 in c:\\users\\odo20\\appdata\\roaming\\python\\python312\\site-packages (from pandas) (1.26.4)\n",
      "Requirement already satisfied: python-dateutil>=2.8.2 in c:\\users\\odo20\\appdata\\roaming\\python\\python312\\site-packages (from pandas) (2.9.0.post0)\n",
      "Requirement already satisfied: pytz>=2020.1 in c:\\users\\odo20\\appdata\\roaming\\python\\python312\\site-packages (from pandas) (2024.1)\n",
      "Requirement already satisfied: tzdata>=2022.7 in c:\\users\\odo20\\appdata\\roaming\\python\\python312\\site-packages (from pandas) (2024.1)\n",
      "Requirement already satisfied: six>=1.5 in c:\\users\\odo20\\appdata\\roaming\\python\\python312\\site-packages (from python-dateutil>=2.8.2->pandas) (1.16.0)\n",
      "Defaulting to user installation because normal site-packages is not writeable\n",
      "Requirement already satisfied: networkx in c:\\users\\odo20\\appdata\\roaming\\python\\python312\\site-packages (3.2.1)\n",
      "Note: you may need to restart the kernel to use updated packages.\n",
      "Defaulting to user installation because normal site-packages is not writeable\n",
      "Requirement already satisfied: scikit-learn in c:\\users\\odo20\\appdata\\roaming\\python\\python312\\site-packages (1.4.1.post1)\n",
      "Requirement already satisfied: numpy<2.0,>=1.19.5 in c:\\users\\odo20\\appdata\\roaming\\python\\python312\\site-packages (from scikit-learn) (1.26.4)\n",
      "Requirement already satisfied: scipy>=1.6.0 in c:\\users\\odo20\\appdata\\roaming\\python\\python312\\site-packages (from scikit-learn) (1.12.0)\n",
      "Requirement already satisfied: joblib>=1.2.0 in c:\\users\\odo20\\appdata\\roaming\\python\\python312\\site-packages (from scikit-learn) (1.3.2)\n",
      "Requirement already satisfied: threadpoolctl>=2.0.0 in c:\\users\\odo20\\appdata\\roaming\\python\\python312\\site-packages (from scikit-learn) (3.3.0)\n",
      "Note: you may need to restart the kernel to use updated packages.\n"
     ]
    }
   ],
   "source": [
    "%pip install scipy\n",
    "%pip install numpy\n",
    "%pip install pandas\n",
    "%pip install networkx\n",
    "%pip install scikit-learn"
   ]
  },
  {
   "cell_type": "code",
   "execution_count": 2,
   "metadata": {},
   "outputs": [],
   "source": [
    "import pandas as pd\n",
    "import numpy as np\n",
    "import networkx as nx\n",
    "from scipy import sparse\n",
    "from scipy.sparse.linalg import norm\n",
    "from sklearn.model_selection import train_test_split\n",
    "from typing import Tuple, Mapping, Any"
   ]
  },
  {
   "cell_type": "code",
   "execution_count": 3,
   "metadata": {},
   "outputs": [],
   "source": [
    "df = pd.read_csv(\"res\\\\rating.csv\")"
   ]
  },
  {
   "cell_type": "code",
   "execution_count": 4,
   "metadata": {},
   "outputs": [
    {
     "data": {
      "text/plain": [
       "count    2.000026e+07\n",
       "mean     3.525529e+00\n",
       "std      1.051989e+00\n",
       "min      5.000000e-01\n",
       "25%      3.000000e+00\n",
       "50%      3.500000e+00\n",
       "75%      4.000000e+00\n",
       "max      5.000000e+00\n",
       "Name: rating, dtype: float64"
      ]
     },
     "execution_count": 4,
     "metadata": {},
     "output_type": "execute_result"
    }
   ],
   "source": [
    "df['rating'].describe()"
   ]
  },
  {
   "cell_type": "code",
   "execution_count": 5,
   "metadata": {},
   "outputs": [],
   "source": [
    "df['userId'] = df['userId'] - 1\n",
    "df['movieId'] = df['movieId'] + max(df['userId']) - 1"
   ]
  },
  {
   "cell_type": "code",
   "execution_count": 6,
   "metadata": {},
   "outputs": [
    {
     "data": {
      "text/html": [
       "<div>\n",
       "<style scoped>\n",
       "    .dataframe tbody tr th:only-of-type {\n",
       "        vertical-align: middle;\n",
       "    }\n",
       "\n",
       "    .dataframe tbody tr th {\n",
       "        vertical-align: top;\n",
       "    }\n",
       "\n",
       "    .dataframe thead th {\n",
       "        text-align: right;\n",
       "    }\n",
       "</style>\n",
       "<table border=\"1\" class=\"dataframe\">\n",
       "  <thead>\n",
       "    <tr style=\"text-align: right;\">\n",
       "      <th></th>\n",
       "      <th>userId</th>\n",
       "      <th>movieId</th>\n",
       "      <th>rating</th>\n",
       "      <th>timestamp</th>\n",
       "    </tr>\n",
       "  </thead>\n",
       "  <tbody>\n",
       "    <tr>\n",
       "      <th>0</th>\n",
       "      <td>0</td>\n",
       "      <td>138493</td>\n",
       "      <td>3.5</td>\n",
       "      <td>2005-04-02 23:53:47</td>\n",
       "    </tr>\n",
       "    <tr>\n",
       "      <th>1</th>\n",
       "      <td>0</td>\n",
       "      <td>138520</td>\n",
       "      <td>3.5</td>\n",
       "      <td>2005-04-02 23:31:16</td>\n",
       "    </tr>\n",
       "    <tr>\n",
       "      <th>2</th>\n",
       "      <td>0</td>\n",
       "      <td>138523</td>\n",
       "      <td>3.5</td>\n",
       "      <td>2005-04-02 23:33:39</td>\n",
       "    </tr>\n",
       "    <tr>\n",
       "      <th>3</th>\n",
       "      <td>0</td>\n",
       "      <td>138538</td>\n",
       "      <td>3.5</td>\n",
       "      <td>2005-04-02 23:32:07</td>\n",
       "    </tr>\n",
       "    <tr>\n",
       "      <th>4</th>\n",
       "      <td>0</td>\n",
       "      <td>138541</td>\n",
       "      <td>3.5</td>\n",
       "      <td>2005-04-02 23:29:40</td>\n",
       "    </tr>\n",
       "  </tbody>\n",
       "</table>\n",
       "</div>"
      ],
      "text/plain": [
       "   userId  movieId  rating            timestamp\n",
       "0       0   138493     3.5  2005-04-02 23:53:47\n",
       "1       0   138520     3.5  2005-04-02 23:31:16\n",
       "2       0   138523     3.5  2005-04-02 23:33:39\n",
       "3       0   138538     3.5  2005-04-02 23:32:07\n",
       "4       0   138541     3.5  2005-04-02 23:29:40"
      ]
     },
     "execution_count": 6,
     "metadata": {},
     "output_type": "execute_result"
    }
   ],
   "source": [
    "df.head()"
   ]
  },
  {
   "cell_type": "code",
   "execution_count": 7,
   "metadata": {},
   "outputs": [],
   "source": [
    "def split_by_target_column_value(df: pd.DataFrame, test_size: float, target_column: str, target_value: Any,\n",
    "                                 random_state: int = 42) -> Tuple[pd.DataFrame, pd.DataFrame, pd.DataFrame]:\n",
    "    \"\"\"\n",
    "    Разделяет DataFrame на обучающий и тестовый наборы на основе определенного значения целевого столбца.\n",
    "    Выдает в качестве тестового набора test_size от набора, в котором значение в target_column == target_value\n",
    "    В тренировочном все остальное\n",
    "    Параметры:\n",
    "        df (pd.DataFrame): DataFrame для разделения.\n",
    "        test_size: Пропорция данных, которые следует включить в тестовый набор.\n",
    "        target_column (str): Название целевого столбца для разделения.\n",
    "        target_value (Any): Значение целевого столбца, используемое для разделения.\n",
    "        random_state (int): Зерно для генератора случайных чисел.\n",
    "\n",
    "    Возвращает:\n",
    "        Tuple[pd.DataFrame, pd.Series, pd.DataFrame, pd.Series]: Данные для обучения; тестовые данные для целевой колонки, которые не попали в data,\n",
    "        тренировочные данные для целевой колоники, которые попали в data\n",
    "    \"\"\"\n",
    "    grouped = df.groupby(by=target_column)\n",
    "    train_df, test_df = train_test_split(grouped.get_group(target_value), test_size=test_size,\n",
    "                                         random_state=random_state)\n",
    "    data = pd.concat([group for ind, group in grouped if ind != target_value], ignore_index=True)\n",
    "    data = pd.concat([train_df, data], ignore_index=True)\n",
    "    return data, test_df, train_df\n"
   ]
  },
  {
   "cell_type": "code",
   "execution_count": 8,
   "metadata": {},
   "outputs": [],
   "source": [
    "data, test1, train1 = split_by_target_column_value(df, test_size=0.5, target_column='userId', target_value=1)"
   ]
  },
  {
   "cell_type": "code",
   "execution_count": 9,
   "metadata": {},
   "outputs": [
    {
     "data": {
      "text/html": [
       "<div>\n",
       "<style scoped>\n",
       "    .dataframe tbody tr th:only-of-type {\n",
       "        vertical-align: middle;\n",
       "    }\n",
       "\n",
       "    .dataframe tbody tr th {\n",
       "        vertical-align: top;\n",
       "    }\n",
       "\n",
       "    .dataframe thead th {\n",
       "        text-align: right;\n",
       "    }\n",
       "</style>\n",
       "<table border=\"1\" class=\"dataframe\">\n",
       "  <thead>\n",
       "    <tr style=\"text-align: right;\">\n",
       "      <th></th>\n",
       "      <th>userId</th>\n",
       "      <th>movieId</th>\n",
       "      <th>rating</th>\n",
       "      <th>timestamp</th>\n",
       "    </tr>\n",
       "  </thead>\n",
       "  <tbody>\n",
       "    <tr>\n",
       "      <th>0</th>\n",
       "      <td>1</td>\n",
       "      <td>140945</td>\n",
       "      <td>4.0</td>\n",
       "      <td>2000-11-21 15:35:16</td>\n",
       "    </tr>\n",
       "    <tr>\n",
       "      <th>1</th>\n",
       "      <td>1</td>\n",
       "      <td>140239</td>\n",
       "      <td>5.0</td>\n",
       "      <td>2000-11-21 15:36:54</td>\n",
       "    </tr>\n",
       "    <tr>\n",
       "      <th>2</th>\n",
       "      <td>1</td>\n",
       "      <td>140071</td>\n",
       "      <td>4.0</td>\n",
       "      <td>2000-11-21 15:32:28</td>\n",
       "    </tr>\n",
       "    <tr>\n",
       "      <th>3</th>\n",
       "      <td>1</td>\n",
       "      <td>141650</td>\n",
       "      <td>3.0</td>\n",
       "      <td>2000-11-21 15:29:58</td>\n",
       "    </tr>\n",
       "    <tr>\n",
       "      <th>4</th>\n",
       "      <td>1</td>\n",
       "      <td>139382</td>\n",
       "      <td>2.0</td>\n",
       "      <td>2000-11-21 15:36:09</td>\n",
       "    </tr>\n",
       "  </tbody>\n",
       "</table>\n",
       "</div>"
      ],
      "text/plain": [
       "   userId  movieId  rating            timestamp\n",
       "0       1   140945     4.0  2000-11-21 15:35:16\n",
       "1       1   140239     5.0  2000-11-21 15:36:54\n",
       "2       1   140071     4.0  2000-11-21 15:32:28\n",
       "3       1   141650     3.0  2000-11-21 15:29:58\n",
       "4       1   139382     2.0  2000-11-21 15:36:09"
      ]
     },
     "execution_count": 9,
     "metadata": {},
     "output_type": "execute_result"
    }
   ],
   "source": [
    "data.head()"
   ]
  },
  {
   "cell_type": "code",
   "execution_count": 10,
   "metadata": {},
   "outputs": [
    {
     "data": {
      "text/html": [
       "<div>\n",
       "<style scoped>\n",
       "    .dataframe tbody tr th:only-of-type {\n",
       "        vertical-align: middle;\n",
       "    }\n",
       "\n",
       "    .dataframe tbody tr th {\n",
       "        vertical-align: top;\n",
       "    }\n",
       "\n",
       "    .dataframe thead th {\n",
       "        text-align: right;\n",
       "    }\n",
       "</style>\n",
       "<table border=\"1\" class=\"dataframe\">\n",
       "  <thead>\n",
       "    <tr style=\"text-align: right;\">\n",
       "      <th></th>\n",
       "      <th>userId</th>\n",
       "      <th>movieId</th>\n",
       "      <th>rating</th>\n",
       "      <th>timestamp</th>\n",
       "    </tr>\n",
       "  </thead>\n",
       "  <tbody>\n",
       "    <tr>\n",
       "      <th>175</th>\n",
       "      <td>1</td>\n",
       "      <td>138494</td>\n",
       "      <td>4.0</td>\n",
       "      <td>2000-11-21 15:34:49</td>\n",
       "    </tr>\n",
       "    <tr>\n",
       "      <th>180</th>\n",
       "      <td>1</td>\n",
       "      <td>138751</td>\n",
       "      <td>5.0</td>\n",
       "      <td>2000-11-21 15:36:54</td>\n",
       "    </tr>\n",
       "    <tr>\n",
       "      <th>221</th>\n",
       "      <td>1</td>\n",
       "      <td>142004</td>\n",
       "      <td>5.0</td>\n",
       "      <td>2000-11-21 15:30:59</td>\n",
       "    </tr>\n",
       "    <tr>\n",
       "      <th>206</th>\n",
       "      <td>1</td>\n",
       "      <td>140463</td>\n",
       "      <td>2.0</td>\n",
       "      <td>2000-11-21 15:36:09</td>\n",
       "    </tr>\n",
       "    <tr>\n",
       "      <th>188</th>\n",
       "      <td>1</td>\n",
       "      <td>139415</td>\n",
       "      <td>5.0</td>\n",
       "      <td>2000-11-21 15:36:54</td>\n",
       "    </tr>\n",
       "  </tbody>\n",
       "</table>\n",
       "</div>"
      ],
      "text/plain": [
       "     userId  movieId  rating            timestamp\n",
       "175       1   138494     4.0  2000-11-21 15:34:49\n",
       "180       1   138751     5.0  2000-11-21 15:36:54\n",
       "221       1   142004     5.0  2000-11-21 15:30:59\n",
       "206       1   140463     2.0  2000-11-21 15:36:09\n",
       "188       1   139415     5.0  2000-11-21 15:36:54"
      ]
     },
     "execution_count": 10,
     "metadata": {},
     "output_type": "execute_result"
    }
   ],
   "source": [
    "test1.head()"
   ]
  },
  {
   "cell_type": "code",
   "execution_count": 11,
   "metadata": {},
   "outputs": [
    {
     "data": {
      "text/html": [
       "<div>\n",
       "<style scoped>\n",
       "    .dataframe tbody tr th:only-of-type {\n",
       "        vertical-align: middle;\n",
       "    }\n",
       "\n",
       "    .dataframe tbody tr th {\n",
       "        vertical-align: top;\n",
       "    }\n",
       "\n",
       "    .dataframe thead th {\n",
       "        text-align: right;\n",
       "    }\n",
       "</style>\n",
       "<table border=\"1\" class=\"dataframe\">\n",
       "  <thead>\n",
       "    <tr style=\"text-align: right;\">\n",
       "      <th></th>\n",
       "      <th>userId</th>\n",
       "      <th>movieId</th>\n",
       "      <th>rating</th>\n",
       "      <th>timestamp</th>\n",
       "    </tr>\n",
       "  </thead>\n",
       "  <tbody>\n",
       "    <tr>\n",
       "      <th>211</th>\n",
       "      <td>1</td>\n",
       "      <td>140945</td>\n",
       "      <td>4.0</td>\n",
       "      <td>2000-11-21 15:35:16</td>\n",
       "    </tr>\n",
       "    <tr>\n",
       "      <th>201</th>\n",
       "      <td>1</td>\n",
       "      <td>140239</td>\n",
       "      <td>5.0</td>\n",
       "      <td>2000-11-21 15:36:54</td>\n",
       "    </tr>\n",
       "    <tr>\n",
       "      <th>199</th>\n",
       "      <td>1</td>\n",
       "      <td>140071</td>\n",
       "      <td>4.0</td>\n",
       "      <td>2000-11-21 15:32:28</td>\n",
       "    </tr>\n",
       "    <tr>\n",
       "      <th>218</th>\n",
       "      <td>1</td>\n",
       "      <td>141650</td>\n",
       "      <td>3.0</td>\n",
       "      <td>2000-11-21 15:29:58</td>\n",
       "    </tr>\n",
       "    <tr>\n",
       "      <th>186</th>\n",
       "      <td>1</td>\n",
       "      <td>139382</td>\n",
       "      <td>2.0</td>\n",
       "      <td>2000-11-21 15:36:09</td>\n",
       "    </tr>\n",
       "  </tbody>\n",
       "</table>\n",
       "</div>"
      ],
      "text/plain": [
       "     userId  movieId  rating            timestamp\n",
       "211       1   140945     4.0  2000-11-21 15:35:16\n",
       "201       1   140239     5.0  2000-11-21 15:36:54\n",
       "199       1   140071     4.0  2000-11-21 15:32:28\n",
       "218       1   141650     3.0  2000-11-21 15:29:58\n",
       "186       1   139382     2.0  2000-11-21 15:36:09"
      ]
     },
     "execution_count": 11,
     "metadata": {},
     "output_type": "execute_result"
    }
   ],
   "source": [
    "train1.head()"
   ]
  },
  {
   "cell_type": "code",
   "execution_count": 12,
   "metadata": {},
   "outputs": [],
   "source": [
    "from abc import ABC, abstractmethod\n",
    "        \n",
    "# https://github.com/danieljunhee/Tutorial-on-Personalized-PageRank/blob/master/Personalized_PageRank_Tutorial.ipynb\n",
    "class PageRank():\n",
    "    \n",
    "    def __init__(self, a: float = 0.8, b: float = 0.15, c: float=0.05) -> None:\n",
    "        # Decide values of a,b,c. For this tutorial, let's use a = 0.8, b = 0.15, c = 0.05.\n",
    "        self.a = a\n",
    "        self.b = b\n",
    "        self.c = c\n",
    "        \n",
    "    def get_pagerank(self, transition_matrix: sparse.csr_matrix, user_person_vec: sparse.csr_matrix) -> np.ndarray:\n",
    "        \n",
    "        # Initialize PageRank vector: height x 1 vector of all 1/height 's\n",
    "        # We also represent the PageRank vector as a sparse csr matrix so that every arithmetic operation result\n",
    "        # is stored as a sparse csr matrix throughout the algorithm... again dealing with sparsity issue & memory issue\n",
    "        \n",
    "        height = transition_matrix.shape[0]\n",
    "        user_pagerank_vec = sparse.csr_matrix(np.ones((height,1)) / height)\n",
    "\n",
    "        # Update the PageRank vector until convergence! Our convergence criterion is to see whether\n",
    "        # the magnitude of the difference of the PageRank vector after an update is 0\n",
    "        converged = False\n",
    "        while (not converged):\n",
    "            # (deep) copy the current PageRank vector to compare with the updated vector\n",
    "            old_user_pagerank_vec = user_pagerank_vec.copy()\n",
    "            \n",
    "            # Update!\n",
    "            user_pagerank_vec = self.a*transition_matrix.dot(user_pagerank_vec) \\\n",
    "                                + self.b*sparse.csr_matrix(user_person_vec.dot(user_pagerank_vec)[0,0]*np.ones((height,1))) \\\n",
    "                                + self.c*sparse.csr_matrix((1/height)*np.ones((height,1)))\n",
    "                    \n",
    "            # Compare with the PageRank vector before the update. Check the magnitude of the difference of the vector\n",
    "            print(\"magnitude of difference vector:\", norm(user_pagerank_vec-old_user_pagerank_vec))\n",
    "            \n",
    "            if norm(user_pagerank_vec-old_user_pagerank_vec) == 0:\n",
    "                converged = True\n",
    "        return user_pagerank_vec.toarray()\n",
    "    \n",
    "    "
   ]
  },
  {
   "cell_type": "markdown",
   "metadata": {},
   "source": []
  },
  {
   "cell_type": "code",
   "execution_count": 35,
   "metadata": {},
   "outputs": [
    {
     "name": "stdout",
     "output_type": "stream",
     "text": [
      "Обработано все ребра\n",
      "Создана матрица, идет нормирование...\n",
      "Сумма посчитана\n"
     ]
    }
   ],
   "source": [
    "def create_transition_matrix_from_pd(data: pd.DataFrame,\n",
    "               source: str, target: str, edge_attr: str) -> sparse.csr_matrix:\n",
    "    \n",
    "    obj_source_to_N = {}\n",
    "    obj_target_to_N = {}\n",
    "    N_to_obj = {}\n",
    "    \n",
    "    source_uniq = set(data[source])\n",
    "    for index, obj in zip(range(len(source_uniq)), source_uniq):\n",
    "        obj_source_to_N[obj] = index\n",
    "        N_to_obj[index] = obj\n",
    "        \n",
    "    \n",
    "    target_uniq = set(data[target])\n",
    "    for index, obj in zip(range(len(source_uniq), len(source_uniq) + len(target_uniq)), target_uniq):\n",
    "        obj_target_to_N[obj] = index\n",
    "        N_to_obj[index] = obj\n",
    "    \n",
    "    count_top = len(N_to_obj)\n",
    "    transition_matrix = sparse.lil_matrix((count_top, count_top))\n",
    "\n",
    "    def process_edge(row):\n",
    "        from_top = obj_source_to_N[row[source]]\n",
    "        to_top = obj_target_to_N[row[target]]\n",
    "        transition_matrix[from_top, to_top] = row[edge_attr]\n",
    "        transition_matrix[to_top, from_top] = row[edge_attr]\n",
    "        \n",
    "\n",
    "\n",
    "    data.apply(process_edge, axis=1)\n",
    "    print(f\"Обработано все ребра\")\n",
    "        \n",
    "    print(\"Создана матрица, идет нормирование...\")\n",
    "    # Получаем суммы элементов каждой строки в виде numpy массива\n",
    "    \n",
    "    transition_matrix_csr = sparse.csr_matrix(transition_matrix)\n",
    "    del transition_matrix\n",
    "    \n",
    "    row_sums = transition_matrix_csr.sum(axis=1)\n",
    "    transition_matrix_csr /= row_sums\n",
    "    print(\"Сумма посчитана\")\n",
    "        \n",
    "    return transition_matrix_csr, N_to_obj\n",
    "        \n",
    "data_test = pd.DataFrame({\n",
    "    'source': ['A', 'A', 'B', 'B', 'C'],\n",
    "    'target': ['X', 'Y', 'X', 'Z', 'Z'],\n",
    "    'edge_attr': [4, 5, 4, 5, 3]\n",
    "})  \n",
    "\n",
    "matrix, N_to_obj = create_transition_matrix_from_pd(data_test, 'source', 'target', 'edge_attr')\n",
    "\n",
    "create_transition_matrix_from_pd(data, 'userId', 'movieId', 'rating')\n",
    "\n",
    "# Проверяем результаты\n",
    "print(\"Матрица переходов:\")\n",
    "print(pd.DataFrame(matrix.toarray()))\n",
    "\n",
    "print(\"\\nОтображение индексов:\")\n",
    "print(N_to_obj)\n"
   ]
  },
  {
   "cell_type": "code",
   "execution_count": null,
   "metadata": {},
   "outputs": [
    {
     "data": {
      "text/plain": [
       "0"
      ]
     },
     "execution_count": 14,
     "metadata": {},
     "output_type": "execute_result"
    }
   ],
   "source": [
    "data['userId'].min()"
   ]
  },
  {
   "cell_type": "code",
   "execution_count": null,
   "metadata": {},
   "outputs": [
    {
     "data": {
      "text/plain": [
       "movieId\n",
       "138787    67310\n",
       "138847    66172\n",
       "138809    63366\n",
       "139084    63299\n",
       "138971    59714\n",
       "          ...  \n",
       "264036        1\n",
       "217364        1\n",
       "251398        1\n",
       "251400        1\n",
       "249001        1\n",
       "Name: count, Length: 26744, dtype: int64"
      ]
     },
     "execution_count": 15,
     "metadata": {},
     "output_type": "execute_result"
    }
   ],
   "source": [
    "data['movieId'].value_counts()"
   ]
  },
  {
   "cell_type": "code",
   "execution_count": null,
   "metadata": {},
   "outputs": [],
   "source": [
    "def create_transition_matrix_from_pd(data: pd.DataFrame,\n",
    "               source: str, target: str, edge_attr: str) -> sparse.csr_matrix:\n",
    "    \n",
    "    count_top = data[source].nunique() + data[target].nunique()\n",
    "    transition_matrix = sparse.lil_matrix((count_top, count_top))\n",
    "        \n",
    "   # Заполнение матрицы значениями ребер и их весами\n",
    "    for _, row in data.iterrows():\n",
    "        source, target, weight = row[source], row[target], row[edge_attr]\n",
    "        transition_matrix[source, target] = weight\n",
    "        transition_matrix[target, source] = weight\n",
    "    \n",
    "    return transition_matrix.tocsr()"
   ]
  },
  {
   "cell_type": "code",
   "execution_count": null,
   "metadata": {},
   "outputs": [
    {
     "name": "stderr",
     "output_type": "stream",
     "text": [
      "C:\\Users\\odo20\\AppData\\Local\\Temp\\ipykernel_15688\\391877748.py:9: FutureWarning: Series.__getitem__ treating keys as positions is deprecated. In a future version, integer keys will always be treated as labels (consistent with DataFrame behavior). To access a value by position, use `ser.iloc[pos]`\n",
      "  source, target, weight = row[source], row[target], row[edge_attr]\n"
     ]
    },
    {
     "ename": "IndexError",
     "evalue": "index 140945 is out of bounds for axis 0 with size 4",
     "output_type": "error",
     "traceback": [
      "\u001b[1;31m---------------------------------------------------------------------------\u001b[0m",
      "\u001b[1;31mIndexError\u001b[0m                                Traceback (most recent call last)",
      "Cell \u001b[1;32mIn[17], line 1\u001b[0m\n\u001b[1;32m----> 1\u001b[0m matrix, N_to_obj \u001b[38;5;241m=\u001b[39m \u001b[43mcreate_transition_matrix_from_pd\u001b[49m\u001b[43m(\u001b[49m\u001b[43mdata\u001b[49m\u001b[43m,\u001b[49m\u001b[43m \u001b[49m\u001b[38;5;124;43m'\u001b[39;49m\u001b[38;5;124;43muserId\u001b[39;49m\u001b[38;5;124;43m'\u001b[39;49m\u001b[43m,\u001b[49m\u001b[43m \u001b[49m\u001b[38;5;124;43m'\u001b[39;49m\u001b[38;5;124;43mmovieId\u001b[39;49m\u001b[38;5;124;43m'\u001b[39;49m\u001b[43m,\u001b[49m\u001b[43m \u001b[49m\u001b[38;5;124;43m'\u001b[39;49m\u001b[38;5;124;43mrating\u001b[39;49m\u001b[38;5;124;43m'\u001b[39;49m\u001b[43m)\u001b[49m\n",
      "Cell \u001b[1;32mIn[16], line 9\u001b[0m, in \u001b[0;36mcreate_transition_matrix_from_pd\u001b[1;34m(data, source, target, edge_attr)\u001b[0m\n\u001b[0;32m      7\u001b[0m \u001b[38;5;66;03m# Заполнение матрицы значениями ребер и их весами\u001b[39;00m\n\u001b[0;32m      8\u001b[0m  \u001b[38;5;28;01mfor\u001b[39;00m _, row \u001b[38;5;129;01min\u001b[39;00m data\u001b[38;5;241m.\u001b[39miterrows():\n\u001b[1;32m----> 9\u001b[0m      source, target, weight \u001b[38;5;241m=\u001b[39m row[source], \u001b[43mrow\u001b[49m\u001b[43m[\u001b[49m\u001b[43mtarget\u001b[49m\u001b[43m]\u001b[49m, row[edge_attr]\n\u001b[0;32m     10\u001b[0m      transition_matrix[source, target] \u001b[38;5;241m=\u001b[39m weight\n\u001b[0;32m     11\u001b[0m      transition_matrix[target, source] \u001b[38;5;241m=\u001b[39m weight\n",
      "File \u001b[1;32m~\\AppData\\Roaming\\Python\\Python312\\site-packages\\pandas\\core\\series.py:1109\u001b[0m, in \u001b[0;36mSeries.__getitem__\u001b[1;34m(self, key)\u001b[0m\n\u001b[0;32m   1099\u001b[0m \u001b[38;5;28;01mif\u001b[39;00m is_integer(key) \u001b[38;5;129;01mand\u001b[39;00m \u001b[38;5;28mself\u001b[39m\u001b[38;5;241m.\u001b[39mindex\u001b[38;5;241m.\u001b[39m_should_fallback_to_positional:\n\u001b[0;32m   1100\u001b[0m     warnings\u001b[38;5;241m.\u001b[39mwarn(\n\u001b[0;32m   1101\u001b[0m         \u001b[38;5;66;03m# GH#50617\u001b[39;00m\n\u001b[0;32m   1102\u001b[0m         \u001b[38;5;124m\"\u001b[39m\u001b[38;5;124mSeries.__getitem__ treating keys as positions is deprecated. \u001b[39m\u001b[38;5;124m\"\u001b[39m\n\u001b[1;32m   (...)\u001b[0m\n\u001b[0;32m   1107\u001b[0m         stacklevel\u001b[38;5;241m=\u001b[39mfind_stack_level(),\n\u001b[0;32m   1108\u001b[0m     )\n\u001b[1;32m-> 1109\u001b[0m     \u001b[38;5;28;01mreturn\u001b[39;00m \u001b[38;5;28;43mself\u001b[39;49m\u001b[38;5;241;43m.\u001b[39;49m\u001b[43m_values\u001b[49m\u001b[43m[\u001b[49m\u001b[43mkey\u001b[49m\u001b[43m]\u001b[49m\n\u001b[0;32m   1111\u001b[0m \u001b[38;5;28;01melif\u001b[39;00m key_is_scalar:\n\u001b[0;32m   1112\u001b[0m     \u001b[38;5;28;01mreturn\u001b[39;00m \u001b[38;5;28mself\u001b[39m\u001b[38;5;241m.\u001b[39m_get_value(key)\n",
      "\u001b[1;31mIndexError\u001b[0m: index 140945 is out of bounds for axis 0 with size 4"
     ]
    }
   ],
   "source": [
    "matrix, N_to_obj = create_transition_matrix_from_pd(data, 'userId', 'movieId', 'rating')"
   ]
  },
  {
   "cell_type": "code",
   "execution_count": null,
   "metadata": {},
   "outputs": [],
   "source": [
    "pg = PageRank()\n",
    "pagerank = pg.get_pagerank(matrix, matrix[0])\n",
    "pagerank"
   ]
  }
 ],
 "metadata": {
  "kernelspec": {
   "display_name": "Python 3",
   "language": "python",
   "name": "python3"
  },
  "language_info": {
   "codemirror_mode": {
    "name": "ipython",
    "version": 3
   },
   "file_extension": ".py",
   "mimetype": "text/x-python",
   "name": "python",
   "nbconvert_exporter": "python",
   "pygments_lexer": "ipython3",
   "version": "3.12.2"
  }
 },
 "nbformat": 4,
 "nbformat_minor": 2
}
