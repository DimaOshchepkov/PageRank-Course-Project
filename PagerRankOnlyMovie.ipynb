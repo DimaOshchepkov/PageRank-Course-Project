{
 "cells": [
  {
   "cell_type": "markdown",
   "metadata": {},
   "source": [
    "# PageRank"
   ]
  },
  {
   "cell_type": "markdown",
   "metadata": {},
   "source": [
    "## Обработка данных"
   ]
  },
  {
   "cell_type": "code",
   "execution_count": 1,
   "metadata": {},
   "outputs": [
    {
     "name": "stdout",
     "output_type": "stream",
     "text": [
      "Defaulting to user installation because normal site-packages is not writeable\n",
      "Requirement already satisfied: scipy in c:\\users\\odo20\\appdata\\roaming\\python\\python312\\site-packages (1.12.0)\n",
      "Requirement already satisfied: numpy<1.29.0,>=1.22.4 in c:\\users\\odo20\\appdata\\roaming\\python\\python312\\site-packages (from scipy) (1.26.4)\n",
      "Note: you may need to restart the kernel to use updated packages.\n",
      "Defaulting to user installation because normal site-packages is not writeableNote: you may need to restart the kernel to use updated packages.\n",
      "\n",
      "Requirement already satisfied: numpy in c:\\users\\odo20\\appdata\\roaming\\python\\python312\\site-packages (1.26.4)\n",
      "Defaulting to user installation because normal site-packages is not writeable\n",
      "Requirement already satisfied: pandas in c:\\users\\odo20\\appdata\\roaming\\python\\python312\\site-packages (2.2.1)\n",
      "Requirement already satisfied: numpy<2,>=1.26.0 in c:\\users\\odo20\\appdata\\roaming\\python\\python312\\site-packages (from pandas) (1.26.4)\n",
      "Requirement already satisfied: python-dateutil>=2.8.2 in c:\\users\\odo20\\appdata\\roaming\\python\\python312\\site-packages (from pandas) (2.9.0.post0)\n",
      "Requirement already satisfied: pytz>=2020.1 in c:\\users\\odo20\\appdata\\roaming\\python\\python312\\site-packages (from pandas) (2024.1)\n",
      "Requirement already satisfied: tzdata>=2022.7 in c:\\users\\odo20\\appdata\\roaming\\python\\python312\\site-packages (from pandas) (2024.1)\n",
      "Requirement already satisfied: six>=1.5 in c:\\users\\odo20\\appdata\\roaming\\python\\python312\\site-packages (from python-dateutil>=2.8.2->pandas) (1.16.0)\n",
      "Note: you may need to restart the kernel to use updated packages.\n",
      "Defaulting to user installation because normal site-packages is not writeableNote: you may need to restart the kernel to use updated packages.\n",
      "\n",
      "Requirement already satisfied: networkx in c:\\users\\odo20\\appdata\\roaming\\python\\python312\\site-packages (3.2.1)\n",
      "Defaulting to user installation because normal site-packages is not writeable\n",
      "Requirement already satisfied: matplotlib in c:\\users\\odo20\\appdata\\roaming\\python\\python312\\site-packages (3.8.3)\n",
      "Requirement already satisfied: contourpy>=1.0.1 in c:\\users\\odo20\\appdata\\roaming\\python\\python312\\site-packages (from matplotlib) (1.2.0)\n",
      "Requirement already satisfied: cycler>=0.10 in c:\\users\\odo20\\appdata\\roaming\\python\\python312\\site-packages (from matplotlib) (0.12.1)\n",
      "Requirement already satisfied: fonttools>=4.22.0 in c:\\users\\odo20\\appdata\\roaming\\python\\python312\\site-packages (from matplotlib) (4.49.0)\n",
      "Requirement already satisfied: kiwisolver>=1.3.1 in c:\\users\\odo20\\appdata\\roaming\\python\\python312\\site-packages (from matplotlib) (1.4.5)\n",
      "Requirement already satisfied: numpy<2,>=1.21 in c:\\users\\odo20\\appdata\\roaming\\python\\python312\\site-packages (from matplotlib) (1.26.4)\n",
      "Requirement already satisfied: packaging>=20.0 in c:\\users\\odo20\\appdata\\roaming\\python\\python312\\site-packages (from matplotlib) (23.2)\n",
      "Requirement already satisfied: pillow>=8 in c:\\users\\odo20\\appdata\\roaming\\python\\python312\\site-packages (from matplotlib) (10.2.0)\n",
      "Requirement already satisfied: pyparsing>=2.3.1 in c:\\users\\odo20\\appdata\\roaming\\python\\python312\\site-packages (from matplotlib) (3.1.2)\n",
      "Requirement already satisfied: python-dateutil>=2.7 in c:\\users\\odo20\\appdata\\roaming\\python\\python312\\site-packages (from matplotlib) (2.9.0.post0)\n",
      "Requirement already satisfied: six>=1.5 in c:\\users\\odo20\\appdata\\roaming\\python\\python312\\site-packages (from python-dateutil>=2.7->matplotlib) (1.16.0)\n",
      "Note: you may need to restart the kernel to use updated packages.\n"
     ]
    }
   ],
   "source": [
    "%pip install scipy\n",
    "%pip install numpy\n",
    "%pip install pandas\n",
    "%pip install networkx\n",
    "%pip install matplotlib"
   ]
  },
  {
   "cell_type": "code",
   "execution_count": 2,
   "metadata": {},
   "outputs": [],
   "source": [
    "import pandas as pd\n",
    "import numpy as np\n",
    "import networkx as nx\n",
    "import matplotlib.pyplot as plt\n",
    "from typing import List, Dict, Any\n",
    "from typing import Mapping, Sequence\n",
    "from itertools import combinations"
   ]
  },
  {
   "cell_type": "code",
   "execution_count": 3,
   "metadata": {},
   "outputs": [],
   "source": [
    "df = pd.read_csv(\"res\\\\rating.csv\")"
   ]
  },
  {
   "cell_type": "code",
   "execution_count": 4,
   "metadata": {},
   "outputs": [
    {
     "name": "stdout",
     "output_type": "stream",
     "text": [
      "count    2.000026e+07\n",
      "mean     3.525529e+00\n",
      "std      1.051989e+00\n",
      "min      5.000000e-01\n",
      "25%      3.000000e+00\n",
      "50%      3.500000e+00\n",
      "75%      4.000000e+00\n",
      "max      5.000000e+00\n",
      "Name: rating, dtype: float64\n"
     ]
    }
   ],
   "source": [
    "print(df['rating'].describe())"
   ]
  },
  {
   "cell_type": "code",
   "execution_count": 5,
   "metadata": {},
   "outputs": [],
   "source": [
    "def get_graph(data: Sequence[Mapping[str, Any]], score_column: str, user_column: str,\n",
    "              target_column: str) -> nx.DiGraph:\n",
    "    df = pd.DataFrame(data)\n",
    "\n",
    "    # Создание пустого графа\n",
    "    G = nx.DiGraph()\n",
    "\n",
    "    # MAX_SCORE - максимальная оценка\n",
    "    MAX_SCORE = df[score_column].max()\n",
    "\n",
    "    # Группировка данных по пользователям\n",
    "    grouped = df.groupby(user_column)\n",
    "\n",
    "    # Проход по каждому пользователю\n",
    "    for _, movies in grouped:\n",
    "        movies_rating = movies[score_column].values\n",
    "        diff_arr = np.subtract.outer(movies_rating, movies_rating) + MAX_SCORE + 1\n",
    "        source = movies[target_column].values\n",
    "        source_len = len(source)\n",
    "        for i in range(source_len):\n",
    "            for j in range(source_len):\n",
    "                if i != j:  # Исключаем петли (i, i)\n",
    "                    weight = diff_arr[j][i]\n",
    "                    if not G.has_edge(source[i], source[j]):\n",
    "                        G.add_edge(source[i], source[j], weight=weight)\n",
    "                    else:\n",
    "                        G[source[i]][source[j]]['weight'] += weight\n",
    "    \n",
    "    return G"
   ]
  },
  {
   "cell_type": "code",
   "execution_count": 6,
   "metadata": {},
   "outputs": [
    {
     "name": "stdout",
     "output_type": "stream",
     "text": [
      "Ребро между узлами 101 и 102 имеет вес 5\n",
      "Ребро между узлами 101 и 103 имеет вес 7\n",
      "Ребро между узлами 102 и 101 имеет вес 7\n",
      "Ребро между узлами 102 и 103 имеет вес 8\n",
      "Ребро между узлами 103 и 101 имеет вес 5\n",
      "Ребро между узлами 103 и 102 имеет вес 4\n",
      "Ребро между узлами 201 и 202 имеет вес 8\n",
      "Ребро между узлами 201 и 203 имеет вес 7\n",
      "Ребро между узлами 202 и 201 имеет вес 4\n",
      "Ребро между узлами 202 и 203 имеет вес 5\n",
      "Ребро между узлами 203 и 201 имеет вес 5\n",
      "Ребро между узлами 203 и 202 имеет вес 7\n"
     ]
    }
   ],
   "source": [
    "# тест метода\n",
    "data = {\n",
    "    'userId': [1, 1, 1, 2, 2, 2],\n",
    "    'movieId': [101, 102, 103, 201, 202, 203],\n",
    "    'rating': [4, 3, 5, 2, 4, 3]\n",
    "}\n",
    "test_graph = get_graph(data=data, score_column='rating', user_column='userId',\n",
    "          target_column='movieId')\n",
    "\n",
    "# Вывод ребер графа вместе с весами\n",
    "for u, v, attrs in test_graph.edges(data=True):\n",
    "    print(f\"Ребро между узлами {u} и {v} имеет вес {attrs['weight']}\")"
   ]
  },
  {
   "cell_type": "code",
   "execution_count": 7,
   "metadata": {},
   "outputs": [],
   "source": [
    "G = get_graph(df.iloc[:50_000], user_column='userId', target_column='movieId', score_column='rating')\n",
    "# 10 - 8,7s"
   ]
  },
  {
   "cell_type": "code",
   "execution_count": 13,
   "metadata": {},
   "outputs": [
    {
     "name": "stdout",
     "output_type": "stream",
     "text": [
      "Узел: 296, Рейтинг: 0.002488815403569689\n",
      "Узел: 318, Рейтинг: 0.002364995843628732\n",
      "Узел: 593, Рейтинг: 0.0023149169390561334\n",
      "Узел: 50, Рейтинг: 0.0022345430942654035\n",
      "Узел: 1198, Рейтинг: 0.0022334470988950835\n",
      "Узел: 1196, Рейтинг: 0.0022264369591044\n",
      "Узел: 2959, Рейтинг: 0.002209674704521502\n",
      "Узел: 47, Рейтинг: 0.0021525895028870726\n",
      "Узел: 589, Рейтинг: 0.0021436707469144065\n",
      "Узел: 260, Рейтинг: 0.002141750244486403\n"
     ]
    }
   ],
   "source": [
    "# Вычисление PageRank\n",
    "\n",
    "personalization = {}\n",
    "movies_for_user_1 = df.loc[df['userId'] == 1]['movieId'].tolist()  # Получаем список фильмов для пользователя 1\n",
    "for movie_id in movies_for_user_1:\n",
    "    personalization[movie_id] = 1 \n",
    "    \n",
    "pagerank = nx.pagerank(G, personalization=personalization)\n",
    "\n",
    "# Вывод первых 10 рейтингов\n",
    "top_pagerank = sorted(pagerank.items(), key=lambda x: x[1], reverse=True)[:10]\n",
    "for node, rank in top_pagerank:\n",
    "    print(f\"Узел: {node}, Рейтинг: {rank}\")"
   ]
  },
  {
   "cell_type": "code",
   "execution_count": 14,
   "metadata": {},
   "outputs": [],
   "source": [
    "df_movie = pd.read_csv('res/movie.csv')"
   ]
  },
  {
   "cell_type": "code",
   "execution_count": 15,
   "metadata": {},
   "outputs": [
    {
     "data": {
      "text/html": [
       "<div>\n",
       "<style scoped>\n",
       "    .dataframe tbody tr th:only-of-type {\n",
       "        vertical-align: middle;\n",
       "    }\n",
       "\n",
       "    .dataframe tbody tr th {\n",
       "        vertical-align: top;\n",
       "    }\n",
       "\n",
       "    .dataframe thead th {\n",
       "        text-align: right;\n",
       "    }\n",
       "</style>\n",
       "<table border=\"1\" class=\"dataframe\">\n",
       "  <thead>\n",
       "    <tr style=\"text-align: right;\">\n",
       "      <th></th>\n",
       "      <th>movieId</th>\n",
       "      <th>title</th>\n",
       "      <th>genres</th>\n",
       "      <th>pagerank</th>\n",
       "    </tr>\n",
       "  </thead>\n",
       "  <tbody>\n",
       "    <tr>\n",
       "      <th>0</th>\n",
       "      <td>1</td>\n",
       "      <td>Toy Story (1995)</td>\n",
       "      <td>Adventure|Animation|Children|Comedy|Fantasy</td>\n",
       "      <td>0.001236</td>\n",
       "    </tr>\n",
       "    <tr>\n",
       "      <th>1</th>\n",
       "      <td>2</td>\n",
       "      <td>Jumanji (1995)</td>\n",
       "      <td>Adventure|Children|Fantasy</td>\n",
       "      <td>0.001483</td>\n",
       "    </tr>\n",
       "    <tr>\n",
       "      <th>2</th>\n",
       "      <td>3</td>\n",
       "      <td>Grumpier Old Men (1995)</td>\n",
       "      <td>Comedy|Romance</td>\n",
       "      <td>0.000300</td>\n",
       "    </tr>\n",
       "    <tr>\n",
       "      <th>3</th>\n",
       "      <td>4</td>\n",
       "      <td>Waiting to Exhale (1995)</td>\n",
       "      <td>Comedy|Drama|Romance</td>\n",
       "      <td>0.000108</td>\n",
       "    </tr>\n",
       "    <tr>\n",
       "      <th>4</th>\n",
       "      <td>5</td>\n",
       "      <td>Father of the Bride Part II (1995)</td>\n",
       "      <td>Comedy</td>\n",
       "      <td>0.000273</td>\n",
       "    </tr>\n",
       "  </tbody>\n",
       "</table>\n",
       "</div>"
      ],
      "text/plain": [
       "   movieId                               title  \\\n",
       "0        1                    Toy Story (1995)   \n",
       "1        2                      Jumanji (1995)   \n",
       "2        3             Grumpier Old Men (1995)   \n",
       "3        4            Waiting to Exhale (1995)   \n",
       "4        5  Father of the Bride Part II (1995)   \n",
       "\n",
       "                                        genres  pagerank  \n",
       "0  Adventure|Animation|Children|Comedy|Fantasy  0.001236  \n",
       "1                   Adventure|Children|Fantasy  0.001483  \n",
       "2                               Comedy|Romance  0.000300  \n",
       "3                         Comedy|Drama|Romance  0.000108  \n",
       "4                                       Comedy  0.000273  "
      ]
     },
     "execution_count": 15,
     "metadata": {},
     "output_type": "execute_result"
    }
   ],
   "source": [
    "movieId_pagerank = pd.DataFrame(list(pagerank.items()), columns=['movieId', 'pagerank'])\n",
    "merged_df = pd.merge(df_movie, movieId_pagerank, on='movieId', how='inner')\n",
    "merged_df.head()"
   ]
  },
  {
   "cell_type": "code",
   "execution_count": 16,
   "metadata": {},
   "outputs": [
    {
     "data": {
      "text/html": [
       "<div>\n",
       "<style scoped>\n",
       "    .dataframe tbody tr th:only-of-type {\n",
       "        vertical-align: middle;\n",
       "    }\n",
       "\n",
       "    .dataframe tbody tr th {\n",
       "        vertical-align: top;\n",
       "    }\n",
       "\n",
       "    .dataframe thead th {\n",
       "        text-align: right;\n",
       "    }\n",
       "</style>\n",
       "<table border=\"1\" class=\"dataframe\">\n",
       "  <thead>\n",
       "    <tr style=\"text-align: right;\">\n",
       "      <th></th>\n",
       "      <th>movieId</th>\n",
       "      <th>title</th>\n",
       "      <th>genres</th>\n",
       "      <th>pagerank</th>\n",
       "    </tr>\n",
       "  </thead>\n",
       "  <tbody>\n",
       "    <tr>\n",
       "      <th>262</th>\n",
       "      <td>296</td>\n",
       "      <td>Pulp Fiction (1994)</td>\n",
       "      <td>Comedy|Crime|Drama|Thriller</td>\n",
       "      <td>0.002489</td>\n",
       "    </tr>\n",
       "    <tr>\n",
       "      <th>281</th>\n",
       "      <td>318</td>\n",
       "      <td>Shawshank Redemption, The (1994)</td>\n",
       "      <td>Crime|Drama</td>\n",
       "      <td>0.002365</td>\n",
       "    </tr>\n",
       "    <tr>\n",
       "      <th>523</th>\n",
       "      <td>593</td>\n",
       "      <td>Silence of the Lambs, The (1991)</td>\n",
       "      <td>Crime|Horror|Thriller</td>\n",
       "      <td>0.002315</td>\n",
       "    </tr>\n",
       "    <tr>\n",
       "      <th>46</th>\n",
       "      <td>50</td>\n",
       "      <td>Usual Suspects, The (1995)</td>\n",
       "      <td>Crime|Mystery|Thriller</td>\n",
       "      <td>0.002235</td>\n",
       "    </tr>\n",
       "    <tr>\n",
       "      <th>939</th>\n",
       "      <td>1198</td>\n",
       "      <td>Raiders of the Lost Ark (Indiana Jones and the...</td>\n",
       "      <td>Action|Adventure</td>\n",
       "      <td>0.002233</td>\n",
       "    </tr>\n",
       "  </tbody>\n",
       "</table>\n",
       "</div>"
      ],
      "text/plain": [
       "     movieId                                              title  \\\n",
       "262      296                                Pulp Fiction (1994)   \n",
       "281      318                   Shawshank Redemption, The (1994)   \n",
       "523      593                   Silence of the Lambs, The (1991)   \n",
       "46        50                         Usual Suspects, The (1995)   \n",
       "939     1198  Raiders of the Lost Ark (Indiana Jones and the...   \n",
       "\n",
       "                          genres  pagerank  \n",
       "262  Comedy|Crime|Drama|Thriller  0.002489  \n",
       "281                  Crime|Drama  0.002365  \n",
       "523        Crime|Horror|Thriller  0.002315  \n",
       "46        Crime|Mystery|Thriller  0.002235  \n",
       "939             Action|Adventure  0.002233  "
      ]
     },
     "execution_count": 16,
     "metadata": {},
     "output_type": "execute_result"
    }
   ],
   "source": [
    "merged_df = merged_df.sort_values(by='pagerank', ascending=False)\n",
    "merged_df.head()"
   ]
  }
 ],
 "metadata": {
  "kernelspec": {
   "display_name": "Python 3",
   "language": "python",
   "name": "python3"
  },
  "language_info": {
   "codemirror_mode": {
    "name": "ipython",
    "version": 3
   },
   "file_extension": ".py",
   "mimetype": "text/x-python",
   "name": "python",
   "nbconvert_exporter": "python",
   "pygments_lexer": "ipython3",
   "version": "3.12.2"
  }
 },
 "nbformat": 4,
 "nbformat_minor": 2
}
