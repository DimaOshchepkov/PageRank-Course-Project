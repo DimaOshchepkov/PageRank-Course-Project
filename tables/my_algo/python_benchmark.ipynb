{
 "cells": [
  {
   "cell_type": "code",
   "execution_count": 4,
   "metadata": {},
   "outputs": [],
   "source": [
    "import os\n",
    "import sys\n",
    "sys.path.append(os.path.abspath(os.path.join(os.getcwd(), '../..')))\n",
    "import networkx as nx\n",
    "import matplotlib.pyplot as plt \n",
    "import time\n",
    "import gc\n",
    "import pandas as pd\n",
    "import numpy as np\n",
    "from ranking import *"
   ]
  },
  {
   "cell_type": "code",
   "execution_count": 5,
   "metadata": {},
   "outputs": [],
   "source": [
    "def measure_pagerank_time(data, user_id_column,\n",
    "                          movie_id_column, rating_column,\n",
    "                          pers=1, count_measure=3, directional = False):\n",
    "    \"\"\"\n",
    "    Измеряет время выполнения создания объекта PageRank и время вычисления \n",
    "    PageRank для заданных данных, уменьшая влияние сборщика мусора.\n",
    "\n",
    "    Args:\n",
    "        data: DataFrame с данными рекомендаций.\n",
    "        user_id_column: Название столбца с ID пользователей.\n",
    "        movie_id_column: Название столбца с ID фильмов.\n",
    "        rating_column: Название столбца с рейтингом.\n",
    "        pers: Параметр pers для PagerankFactory.\n",
    "        count_measure: Количество измерений (для усреднения).\n",
    "\n",
    "    Returns:\n",
    "        Tuple: Время создания объекта PageRank (в секундах), \n",
    "               время выполнения get_pagerank (в секундах).\n",
    "    \"\"\"\n",
    "    gc.collect()\n",
    "\n",
    "    # Измеряем время создания объекта\n",
    "    start_time_creation = time.time()\n",
    "    pg = PagerankFactory().read_pd(data, user_id_column, movie_id_column, rating_column, pers, directional)\n",
    "    end_time_creation = time.time()\n",
    "    creation_time = end_time_creation - start_time_creation\n",
    "\n",
    "    # Измеряем время выполнения get_pagerank\n",
    "    start_time_calculation = time.time()\n",
    "    for _ in range(count_measure):\n",
    "        _ = pg.get_pagerank()\n",
    "    end_time_calculation = time.time()\n",
    "    execution_time = (end_time_calculation - start_time_calculation) / count_measure\n",
    "\n",
    "    return creation_time, execution_time\n",
    "\n",
    "def measure_hits_time(data, user_id_column,\n",
    "                          movie_id_column, rating_column,\n",
    "                          pers=1, count_measure=3, directional = False):\n",
    "    gc.collect()\n",
    "\n",
    "    # Измеряем время создания объекта\n",
    "    start_time_creation = time.time()\n",
    "    pg = HITSFactory().read_pd(data, user_id_column, movie_id_column, rating_column, pers, directional)\n",
    "    end_time_creation = time.time()\n",
    "    creation_time = end_time_creation - start_time_creation\n",
    "\n",
    "    # Измеряем время выполнения get_pagerank\n",
    "    start_time_calculation = time.time()\n",
    "    for _ in range(count_measure):\n",
    "        _ = pg.get_rank()\n",
    "    end_time_calculation = time.time()\n",
    "    execution_time = (end_time_calculation - start_time_calculation) / count_measure\n",
    "\n",
    "    return creation_time, execution_time\n",
    "\n",
    "def plot_time(filename):\n",
    "    \"\"\"\n",
    "    Строит график зависимости времени выполнения  от размера выборки.\n",
    "\n",
    "    Args:\n",
    "        filename: Имя файла CSV с данными о времени выполнения.\n",
    "    \"\"\"\n",
    "    df = pd.read_csv(filename)\n",
    "\n",
    "    # Строим график\n",
    "    plt.plot(df['Размер выборки'], df['Время выполнения'], marker='o')\n",
    "\n",
    "    # Настраиваем оси и заголовок графика\n",
    "    plt.xlabel('Доля набора данных')\n",
    "    plt.ylabel('Время выполнения (секунды)')\n",
    "    plt.title('Зависимость времени выполнения  от размера выборки')\n",
    "    plt.grid()\n",
    "\n",
    "    # Отображаем график\n",
    "    plt.show()\n"
   ]
  },
  {
   "cell_type": "code",
   "execution_count": 6,
   "metadata": {},
   "outputs": [],
   "source": [
    "df = pd.read_csv(\"./../../res/movie/rating.csv\")"
   ]
  },
  {
   "cell_type": "code",
   "execution_count": null,
   "metadata": {},
   "outputs": [],
   "source": [
    "# Создаем список для хранения данных о времени выполнения\n",
    "results = []\n",
    "\n",
    "# Пример использования:\n",
    "for i in np.arange(0.1, 1 + 0.1, 0.1):\n",
    "    data = df.sample(frac=i)\n",
    "    creation_time, execution_time = measure_hits_time(data, 'userId', 'movieId', 'rating', count_measure=8)\n",
    "    print(f\"Время создания: {creation_time:.4f} секунд\")\n",
    "    print(f\"Время выполнения: {execution_time:.4f} секунд\")\n",
    "    print(f\"Размер {i}\")\n",
    "    results.append([i, execution_time, creation_time])\n",
    "\n",
    "# Создаем DataFrame из полученных данных\n",
    "results_df = pd.DataFrame(results, columns=['Размер выборки', 'Время выполнения', 'Время создания'])\n",
    "\n",
    "# Сохраняем DataFrame в файл CSV\n",
    "results_df.to_csv('./hits/my_py_hits_results_movielens.csv', index=False)\n",
    "plot_time('./hits/my_py_hits_results_movielens.csv')"
   ]
  },
  {
   "cell_type": "code",
   "execution_count": 7,
   "metadata": {},
   "outputs": [
    {
     "name": "stderr",
     "output_type": "stream",
     "text": [
      "C:\\Users\\odo20\\AppData\\Roaming\\Python\\Python312\\site-packages\\scipy\\sparse\\_base.py:713: RuntimeWarning: divide by zero encountered in divide\n",
      "  recip = np.true_divide(1., other)\n",
      "100%|██████████| 100/100 [00:04<00:00, 20.14it/s]\n",
      "100%|██████████| 100/100 [00:05<00:00, 19.95it/s]\n",
      "100%|██████████| 100/100 [00:04<00:00, 20.32it/s]\n"
     ]
    },
    {
     "name": "stdout",
     "output_type": "stream",
     "text": [
      "Время создания: 2.0405 секунд\n",
      "Время выполнения: 5.1730 секунд\n",
      "Размер 0.1\n"
     ]
    },
    {
     "name": "stderr",
     "output_type": "stream",
     "text": [
      "100%|██████████| 100/100 [00:09<00:00, 10.60it/s]\n",
      "100%|██████████| 100/100 [00:09<00:00, 10.69it/s]\n",
      "100%|██████████| 100/100 [00:09<00:00, 10.83it/s]\n"
     ]
    },
    {
     "name": "stdout",
     "output_type": "stream",
     "text": [
      "Время создания: 3.8023 секунд\n",
      "Время выполнения: 9.5650 секунд\n",
      "Размер 0.2\n"
     ]
    },
    {
     "name": "stderr",
     "output_type": "stream",
     "text": [
      "100%|██████████| 100/100 [00:13<00:00,  7.21it/s]\n",
      "100%|██████████| 100/100 [00:13<00:00,  7.18it/s]\n",
      "100%|██████████| 100/100 [00:13<00:00,  7.24it/s]\n"
     ]
    },
    {
     "name": "stdout",
     "output_type": "stream",
     "text": [
      "Время создания: 5.6447 секунд\n",
      "Время выполнения: 14.1161 секунд\n",
      "Размер 0.30000000000000004\n"
     ]
    },
    {
     "name": "stderr",
     "output_type": "stream",
     "text": [
      "100%|██████████| 100/100 [00:19<00:00,  5.23it/s]\n",
      "100%|██████████| 100/100 [00:18<00:00,  5.54it/s]\n",
      "100%|██████████| 100/100 [00:18<00:00,  5.55it/s]\n"
     ]
    },
    {
     "name": "stdout",
     "output_type": "stream",
     "text": [
      "Время создания: 8.2181 секунд\n",
      "Время выполнения: 18.6636 секунд\n",
      "Размер 0.4\n"
     ]
    },
    {
     "name": "stderr",
     "output_type": "stream",
     "text": [
      "100%|██████████| 100/100 [00:22<00:00,  4.44it/s]\n",
      "100%|██████████| 100/100 [00:22<00:00,  4.43it/s]\n",
      "100%|██████████| 100/100 [00:23<00:00,  4.29it/s]\n"
     ]
    },
    {
     "name": "stdout",
     "output_type": "stream",
     "text": [
      "Время создания: 8.7815 секунд\n",
      "Время выполнения: 23.0749 секунд\n",
      "Размер 0.5\n"
     ]
    },
    {
     "name": "stderr",
     "output_type": "stream",
     "text": [
      "100%|██████████| 100/100 [00:28<00:00,  3.48it/s]\n",
      "100%|██████████| 100/100 [00:27<00:00,  3.63it/s]\n",
      "100%|██████████| 100/100 [00:27<00:00,  3.64it/s]\n"
     ]
    },
    {
     "name": "stdout",
     "output_type": "stream",
     "text": [
      "Время создания: 10.9086 секунд\n",
      "Время выполнения: 28.1913 секунд\n",
      "Размер 0.6\n"
     ]
    },
    {
     "name": "stderr",
     "output_type": "stream",
     "text": [
      "100%|██████████| 100/100 [00:32<00:00,  3.12it/s]\n",
      "100%|██████████| 100/100 [00:32<00:00,  3.10it/s]\n",
      "100%|██████████| 100/100 [00:32<00:00,  3.11it/s]\n"
     ]
    },
    {
     "name": "stdout",
     "output_type": "stream",
     "text": [
      "Время создания: 12.6422 секунд\n",
      "Время выполнения: 32.4452 секунд\n",
      "Размер 0.7000000000000001\n"
     ]
    },
    {
     "name": "stderr",
     "output_type": "stream",
     "text": [
      "100%|██████████| 100/100 [00:37<00:00,  2.69it/s]\n",
      "100%|██████████| 100/100 [00:37<00:00,  2.69it/s]\n",
      "100%|██████████| 100/100 [00:36<00:00,  2.72it/s]\n"
     ]
    },
    {
     "name": "stdout",
     "output_type": "stream",
     "text": [
      "Время создания: 14.6152 секунд\n",
      "Время выполнения: 37.3861 секунд\n",
      "Размер 0.8\n"
     ]
    },
    {
     "name": "stderr",
     "output_type": "stream",
     "text": [
      "100%|██████████| 100/100 [00:44<00:00,  2.26it/s]\n",
      "100%|██████████| 100/100 [00:42<00:00,  2.37it/s]\n",
      "100%|██████████| 100/100 [00:41<00:00,  2.42it/s]\n"
     ]
    },
    {
     "name": "stdout",
     "output_type": "stream",
     "text": [
      "Время создания: 18.7455 секунд\n",
      "Время выполнения: 42.9055 секунд\n",
      "Размер 0.9\n"
     ]
    },
    {
     "name": "stderr",
     "output_type": "stream",
     "text": [
      "100%|██████████| 100/100 [00:48<00:00,  2.07it/s]\n",
      "100%|██████████| 100/100 [00:46<00:00,  2.14it/s]\n",
      "100%|██████████| 100/100 [00:46<00:00,  2.14it/s]\n"
     ]
    },
    {
     "name": "stdout",
     "output_type": "stream",
     "text": [
      "Время создания: 18.9115 секунд\n",
      "Время выполнения: 47.6673 секунд\n",
      "Размер 1.0\n"
     ]
    },
    {
     "data": {
      "image/png": "[encoded data removed]",
      "text/plain": [
       "<Figure size 640x480 with 1 Axes>"
      ]
     },
     "metadata": {},
     "output_type": "display_data"
    }
   ],
   "source": [
    "# Создаем список для хранения данных о времени выполнения\n",
    "results = []\n",
    "\n",
    "# Пример использования:\n",
    "for i in np.arange(0.1, 1 + 0.1, 0.1):\n",
    "    data = df.sample(frac=i)\n",
    "    creation_time, execution_time = measure_pagerank_time(data, 'userId', 'movieId', 'rating', count_measure=3)\n",
    "    print(f\"Время создания: {creation_time:.4f} секунд\")\n",
    "    print(f\"Время выполнения: {execution_time:.4f} секунд\")\n",
    "    print(f\"Размер {i}\")\n",
    "    results.append([i, execution_time, creation_time])\n",
    "\n",
    "# Создаем DataFrame из полученных данных\n",
    "results_df = pd.DataFrame(results, columns=['Размер выборки', 'Время выполнения', 'Время создания'])\n",
    "\n",
    "# Сохраняем DataFrame в файл CSV\n",
    "results_df.to_csv('./pagerank/my_py_pagerank_results_movielens.csv', index=False)\n",
    "plot_time('./pagerank/my_py_pagerank_results_movielens.csv')"
   ]
  },
  {
   "cell_type": "code",
   "execution_count": null,
   "metadata": {},
   "outputs": [],
   "source": [
    "filename = './../../res/google_graph/web-Google.txt'\n",
    "skiprows = 0\n",
    "with open(filename , 'r') as f:\n",
    "    for line in f:\n",
    "        if line[0] != \"#\":\n",
    "            break\n",
    "        skiprows += 1\n",
    "\n",
    "data = pd.read_csv(filename , sep='\\t', header=None,\n",
    "                   skiprows=skiprows, dtype=int,\n",
    "                   names=['source', 'target'])\n",
    "data['edge_attr'] = 1\n"
   ]
  },
  {
   "cell_type": "code",
   "execution_count": null,
   "metadata": {},
   "outputs": [],
   "source": [
    "\n",
    "# Создаем список для хранения данных о времени выполнения\n",
    "results = []\n",
    "\n",
    "# Пример использования:\n",
    "for i in np.arange(0.1, 1 + 0.1, 0.1):\n",
    "    data_slice = data.sample(frac=i)\n",
    "    creation_time, execution_time = measure_hits_time(data_slice, 'source', 'target', 'edge_attr',data_slice['source'].min(), 3, False)\n",
    "    print(f\"Время создания: {creation_time:.4f} секунд\")\n",
    "    print(f\"Время выполнения: {execution_time:.4f} секунд\")\n",
    "    print(f\"Размер {i}\")\n",
    "    results.append([i, execution_time, creation_time])\n",
    "\n",
    "# Создаем DataFrame из полученных данных\n",
    "results_df = pd.DataFrame(results, columns=['Размер выборки', 'Время выполнения', 'Время создания'])\n",
    "\n",
    "# Сохраняем DataFrame в файл CSV\n",
    "results_df.to_csv('./hits/my_py_hits_results_web.csv', index=False)\n",
    "plot_time('./hits/my_py_hits_results_web.csv')"
   ]
  },
  {
   "cell_type": "code",
   "execution_count": null,
   "metadata": {},
   "outputs": [],
   "source": [
    "# Создаем список для хранения данных о времени выполнения\n",
    "results = []\n",
    "\n",
    "# Пример использования:\n",
    "for i in np.arange(0.1, 1 + 0.1, 0.1):\n",
    "    data_slice = data.sample(frac=i)\n",
    "    creation_time, execution_time = measure_pagerank_time(data_slice, 'source', 'target', 'edge_attr', data_slice['source'].min(), 3, True)\n",
    "    print(f\"Время создания: {creation_time:.4f} секунд\")\n",
    "    print(f\"Время выполнения: {execution_time:.4f} секунд\")\n",
    "    print(f\"Размер {i}\")\n",
    "    results.append([i, execution_time, creation_time])\n",
    "\n",
    "# Создаем DataFrame из полученных данных\n",
    "results_df = pd.DataFrame(results, columns=['Размер выборки', 'Время выполнения', 'Время создания'])\n",
    "\n",
    "# Сохраняем DataFrame в файл CSV\n",
    "results_df.to_csv('./pagerank/my_py_pagerank_results_web.csv', index=False)\n",
    "plot_time('./pagerank/my_py_pagerank_results_web.csv')"
   ]
  },
  {
   "cell_type": "code",
   "execution_count": null,
   "metadata": {},
   "outputs": [],
   "source": []
  }
 ],
 "metadata": {
  "kernelspec": {
   "display_name": "Python 3",
   "language": "python",
   "name": "python3"
  },
  "language_info": {
   "codemirror_mode": {
    "name": "ipython",
    "version": 3
   },
   "file_extension": ".py",
   "mimetype": "text/x-python",
   "name": "python",
   "nbconvert_exporter": "python",
   "pygments_lexer": "ipython3",
   "version": "3.12.2"
  }
 },
 "nbformat": 4,
 "nbformat_minor": 2
}
